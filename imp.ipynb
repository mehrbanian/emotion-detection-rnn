{
 "cells": [
  {
   "cell_type": "code",
   "execution_count": 29,
   "metadata": {},
   "outputs": [],
   "source": [
    "import numpy as np\n",
    "import pandas as pd\n",
    "import tensorflow as tf\n"
   ]
  },
  {
   "cell_type": "code",
   "execution_count": 30,
   "metadata": {},
   "outputs": [],
   "source": [
    "data = np.array(pd.read_csv(\"Dataset/Text_Emotion_Data.csv\"))\n",
    "stopwords = np.array(pd.read_csv(\"Dataset/stopwords.txt\", sep=\" \", header=None)).flatten()"
   ]
  },
  {
   "cell_type": "code",
   "execution_count": 31,
   "metadata": {},
   "outputs": [],
   "source": [
    "X = data[:, 0]\n",
    "y = data[:, 1]"
   ]
  },
  {
   "cell_type": "code",
   "execution_count": 32,
   "metadata": {},
   "outputs": [],
   "source": [
    "# %pip install --upgrade --force-reinstall tensorflow"
   ]
  },
  {
   "cell_type": "code",
   "execution_count": 33,
   "metadata": {},
   "outputs": [],
   "source": [
    "import re\n",
    "\n",
    "def remove_none_alpha(x):\n",
    "    regex = re.compile('[^a-zA-Z]')\n",
    "    return regex.sub(' ', x)"
   ]
  },
  {
   "cell_type": "code",
   "execution_count": 34,
   "metadata": {},
   "outputs": [],
   "source": [
    "# stopwords = [remove_none_alpha(w) for w in stopwords]"
   ]
  },
  {
   "cell_type": "code",
   "execution_count": 35,
   "metadata": {},
   "outputs": [],
   "source": [
    "X_seq = []\n",
    "for sentence in X:\n",
    "    words_seq = remove_none_alpha(sentence).lower().split(\" \")\n",
    "    words_seq = [w for w in words_seq if len(w) > 2]\n",
    "    words_seq = [w for w in words_seq if w not in stopwords]\n",
    "    X_seq.append(words_seq)"
   ]
  },
  {
   "cell_type": "code",
   "execution_count": 36,
   "metadata": {},
   "outputs": [],
   "source": [
    "max_len = len(max(X_seq, key=len))\n",
    "\n",
    "# create a new list of lists with the desired size, padding with empty strings\n",
    "sequences = [['' for _ in range(max_len)] for _ in range(len(X_seq))]\n",
    "\n",
    "# copy the elements from the original lists into the new list, padding with empty strings as needed\n",
    "for i, sequence in enumerate(X_seq):\n",
    "    sequences[i][:len(sequence)] = sequence"
   ]
  },
  {
   "cell_type": "code",
   "execution_count": 37,
   "metadata": {},
   "outputs": [],
   "source": [
    "import numpy as np\n",
    "\n",
    "def one_hot_encode(sequence, word_to_idx):\n",
    "    num_words = len(word_to_idx)\n",
    "    encoding = np.zeros((len(sequence), num_words))\n",
    "    for i, word in enumerate(sequence):\n",
    "        if word in word_to_idx:\n",
    "            encoding[i, word_to_idx[word]] = 1\n",
    "    return encoding\n",
    "\n",
    "def one_hot_encode2(sequence, word_to_idx, max_bit_num):\n",
    "    encoding = np.zeros((len(sequence), max_bit_num))\n",
    "    for i, word in enumerate(sequence):\n",
    "        if word in word_to_idx:            \n",
    "            binary_string = bin(word_to_idx[word])[2:]  # exclude the \"0b\" prefix\n",
    "            binary_array = np.array([int(digit) for digit in binary_string])\n",
    "            binary_array = np.pad(binary_array, (max_bit_num - len(binary_array), 0), 'constant')\n",
    "\n",
    "            encoding[i, :] = binary_array\n",
    "    return encoding\n",
    "\n",
    "unique_words = list(np.unique([word for sequence in sequences for word in sequence]))\n",
    "word_to_idx = {word: idx for idx, word in enumerate(unique_words)}\n",
    "\n",
    "max_bit_num = 1\n",
    "while(True):\n",
    "    if(2**max_bit_num > len(unique_words)): break\n",
    "    max_bit_num += 1\n",
    "\n",
    "encoded_sequences = []\n",
    "for sequence in sequences:\n",
    "    encoded_sequences.append(one_hot_encode(sequence, word_to_idx))\n",
    "\n",
    "encoded_sequences = np.array(encoded_sequences)"
   ]
  },
  {
   "cell_type": "code",
   "execution_count": 38,
   "metadata": {},
   "outputs": [],
   "source": [
    "def select_test_dataset(x, y, _y):\n",
    "    unique_classes = np.unique(_y)\n",
    "    train_indices = []\n",
    "    test_indices = []\n",
    "    \n",
    "    for cls in unique_classes:\n",
    "        cls_indices = np.where(_y == cls)[0]\n",
    "        train_indices.extend(cls_indices[:-150])\n",
    "        test_indices.extend(cls_indices[-150:])\n",
    "    \n",
    "    train_x = x[train_indices]\n",
    "    train_y = y[train_indices]\n",
    "    test_x = x[test_indices]\n",
    "    test_y = y[test_indices]\n",
    "    \n",
    "    return train_x, train_y, test_x, test_y"
   ]
  },
  {
   "cell_type": "code",
   "execution_count": 39,
   "metadata": {},
   "outputs": [],
   "source": [
    "# X_train = encoded_sequences[:-150]\n",
    "# X_test = encoded_sequences[-150:]\n",
    "# # y_train_str = y[:-150]\n",
    "# # y_test_str = y[-150:]"
   ]
  },
  {
   "cell_type": "code",
   "execution_count": 40,
   "metadata": {},
   "outputs": [],
   "source": [
    "from sklearn import preprocessing\n",
    "\n",
    "le = preprocessing.LabelEncoder()\n",
    "y_encoded = le.fit_transform(y)"
   ]
  },
  {
   "cell_type": "code",
   "execution_count": 41,
   "metadata": {},
   "outputs": [],
   "source": [
    "# # Define the function you want to apply\n",
    "# def to_binary(num):\n",
    "#     binary_string = bin(num)[2:]  # exclude the \"0b\" prefix\n",
    "#     binary_array = np.array([int(digit) for digit in binary_string])\n",
    "#     binary_array = np.pad(binary_array, (3 - len(binary_array), 0), 'constant')\n",
    "#     return binary_array\n",
    "\n",
    "# # Create a NumPy array\n",
    "# arr = np.array(y_encoded)\n",
    "\n",
    "# # Initialize the result array\n",
    "# y_encoded_onehot = np.empty((arr.shape[0], 3), dtype=int)\n",
    "\n",
    "# # Apply the function on all elements of the array\n",
    "# for i, num in enumerate(arr):\n",
    "#     y_encoded_onehot[i] = to_binary(num)\n"
   ]
  },
  {
   "cell_type": "code",
   "execution_count": 42,
   "metadata": {},
   "outputs": [
    {
     "data": {
      "text/plain": [
       "0"
      ]
     },
     "execution_count": 42,
     "metadata": {},
     "output_type": "execute_result"
    }
   ],
   "source": [
    "min(y_encoded)"
   ]
  },
  {
   "cell_type": "code",
   "execution_count": 43,
   "metadata": {},
   "outputs": [],
   "source": [
    "def to_binary(num):\n",
    "    binary_array = np.zeros(5)\n",
    "    binary_array[num] = 1\n",
    "    return binary_array\n",
    "\n",
    "# Create a NumPy array\n",
    "arr = np.array(y_encoded)\n",
    "\n",
    "# Initialize the result array\n",
    "y_encoded_onehot = np.empty((arr.shape[0], 5), dtype=int)\n",
    "\n",
    "# Apply the function on all elements of the array\n",
    "for i, num in enumerate(arr):\n",
    "    y_encoded_onehot[i] = to_binary(num)"
   ]
  },
  {
   "cell_type": "code",
   "execution_count": 57,
   "metadata": {},
   "outputs": [],
   "source": [
    "y_encoded_onehot = tf.keras.utils.to_categorical(y_encoded, num_classes = 5)\n"
   ]
  },
  {
   "cell_type": "code",
   "execution_count": 58,
   "metadata": {},
   "outputs": [],
   "source": [
    "X_train, y_train, X_test, y_test = select_test_dataset(encoded_sequences, y_encoded_onehot, y_encoded)"
   ]
  },
  {
   "cell_type": "code",
   "execution_count": 59,
   "metadata": {},
   "outputs": [],
   "source": [
    "# y_train = y_encoded_onehot[:-150]\n",
    "# y_test = y_encoded_onehot[-150:]"
   ]
  },
  {
   "cell_type": "code",
   "execution_count": 60,
   "metadata": {},
   "outputs": [
    {
     "data": {
      "text/plain": [
       "numpy.ndarray"
      ]
     },
     "execution_count": 60,
     "metadata": {},
     "output_type": "execute_result"
    }
   ],
   "source": [
    "type(X_train)"
   ]
  },
  {
   "cell_type": "code",
   "execution_count": 61,
   "metadata": {},
   "outputs": [
    {
     "data": {
      "text/plain": [
       "(2500, 19, 6523)"
      ]
     },
     "execution_count": 61,
     "metadata": {},
     "output_type": "execute_result"
    }
   ],
   "source": [
    "X_train.shape"
   ]
  },
  {
   "cell_type": "code",
   "execution_count": 62,
   "metadata": {},
   "outputs": [],
   "source": [
    "# import tensorflow as tf\n",
    "\n",
    "# # Define the Elman network architecture\n",
    "# input_dim = X_train.shape[2]\n",
    "# hidden_dim = 300\n",
    "# output_dim = y_train.shape[1]\n",
    "# num_steps = X_train.shape[1]\n",
    "\n",
    "# inputs = tf.keras.layers.Input(shape=(num_steps, input_dim))\n",
    "# hidden_layer = tf.keras.layers.SimpleRNN(hidden_dim, activation='tanh', return_sequences=True)(inputs)\n",
    "\n",
    "# # Connect the hidden layer to itself at the previous time step\n",
    "# hidden_layer_with_context = tf.keras.layers.SimpleRNN(hidden_dim, activation='tanh', return_sequences=True)(hidden_layer)\n",
    "# hidden_layer_with_context = tf.keras.layers.Concatenate()([hidden_layer, hidden_layer_with_context])\n",
    "\n",
    "# # Flatten the output of the hidden layer\n",
    "# flatten_layer = tf.keras.layers.Flatten()(hidden_layer_with_context)\n",
    "\n",
    "# outputs = tf.keras.layers.Dense(output_dim, activation='softmax')(flatten_layer)\n",
    "\n",
    "# # Define the model\n",
    "# model = tf.keras.Model(inputs=inputs, outputs=outputs)\n",
    "\n",
    "# # Compile the model\n",
    "# # optimizer = tf.keras.optimizers.Adam(learning_rate=0.01)\n",
    "# optimizer = tf.keras.optimizers.Adadelta(learning_rate=0.1)\n",
    "# model.compile(optimizer=optimizer, loss='mse')\n",
    "\n",
    "# # Train the model\n",
    "# model.fit(X_train, y_train, epochs=100, batch_size=32)\n"
   ]
  },
  {
   "cell_type": "code",
   "execution_count": 63,
   "metadata": {},
   "outputs": [
    {
     "data": {
      "text/plain": [
       "(2500, 5)"
      ]
     },
     "execution_count": 63,
     "metadata": {},
     "output_type": "execute_result"
    }
   ],
   "source": [
    "y_train.shape"
   ]
  },
  {
   "cell_type": "code",
   "execution_count": 64,
   "metadata": {},
   "outputs": [
    {
     "data": {
      "text/plain": [
       "(2500, 19, 6523)"
      ]
     },
     "execution_count": 64,
     "metadata": {},
     "output_type": "execute_result"
    }
   ],
   "source": [
    "X_train.shape"
   ]
  },
  {
   "cell_type": "code",
   "execution_count": 81,
   "metadata": {},
   "outputs": [
    {
     "name": "stdout",
     "output_type": "stream",
     "text": [
      "Epoch 1/20\n",
      "81/81 [==============================] - 23s 226ms/step - loss: 0.1773 - accuracy: 0.1992 - val_loss: 0.1763 - val_accuracy: 0.1947\n",
      "Epoch 2/20\n",
      "81/81 [==============================] - 13s 161ms/step - loss: 0.1742 - accuracy: 0.2624 - val_loss: 0.1731 - val_accuracy: 0.1947\n",
      "Epoch 3/20\n",
      "81/81 [==============================] - 13s 161ms/step - loss: 0.1243 - accuracy: 0.5296 - val_loss: 0.1872 - val_accuracy: 0.2000\n",
      "Epoch 4/20\n",
      "81/81 [==============================] - 13s 163ms/step - loss: 0.0652 - accuracy: 0.7912 - val_loss: 0.2045 - val_accuracy: 0.2253\n",
      "Epoch 5/20\n",
      "81/81 [==============================] - 13s 158ms/step - loss: 0.0292 - accuracy: 0.9248 - val_loss: 0.2078 - val_accuracy: 0.2347\n",
      "Epoch 6/20\n",
      "81/81 [==============================] - 13s 155ms/step - loss: 0.0116 - accuracy: 0.9748 - val_loss: 0.2125 - val_accuracy: 0.2240\n",
      "Epoch 7/20\n",
      "81/81 [==============================] - 13s 158ms/step - loss: 0.0070 - accuracy: 0.9828 - val_loss: 0.2152 - val_accuracy: 0.2227\n",
      "Epoch 8/20\n",
      "81/81 [==============================] - 13s 157ms/step - loss: 0.0044 - accuracy: 0.9884 - val_loss: 0.2167 - val_accuracy: 0.2173\n",
      "Epoch 9/20\n",
      "81/81 [==============================] - 13s 161ms/step - loss: 0.0030 - accuracy: 0.9908 - val_loss: 0.2173 - val_accuracy: 0.2120\n",
      "Epoch 10/20\n",
      "81/81 [==============================] - 13s 161ms/step - loss: 0.0025 - accuracy: 0.9916 - val_loss: 0.2173 - val_accuracy: 0.2267\n",
      "Epoch 11/20\n",
      "81/81 [==============================] - 13s 158ms/step - loss: 0.0022 - accuracy: 0.9924 - val_loss: 0.2186 - val_accuracy: 0.2240\n",
      "Epoch 12/20\n",
      "81/81 [==============================] - 13s 158ms/step - loss: 0.0021 - accuracy: 0.9924 - val_loss: 0.2163 - val_accuracy: 0.2333\n",
      "Epoch 13/20\n",
      "81/81 [==============================] - 13s 162ms/step - loss: 0.0021 - accuracy: 0.9928 - val_loss: 0.2185 - val_accuracy: 0.2267\n",
      "Epoch 14/20\n",
      "81/81 [==============================] - 13s 159ms/step - loss: 0.0016 - accuracy: 0.9940 - val_loss: 0.2161 - val_accuracy: 0.2253\n",
      "Epoch 15/20\n",
      "81/81 [==============================] - 13s 165ms/step - loss: 0.0014 - accuracy: 0.9944 - val_loss: 0.2184 - val_accuracy: 0.2253\n",
      "Epoch 16/20\n",
      "81/81 [==============================] - 13s 160ms/step - loss: 0.0013 - accuracy: 0.9944 - val_loss: 0.2169 - val_accuracy: 0.2333\n",
      "Epoch 17/20\n",
      "81/81 [==============================] - 13s 161ms/step - loss: 0.0013 - accuracy: 0.9944 - val_loss: 0.2178 - val_accuracy: 0.2240\n",
      "Epoch 18/20\n",
      "81/81 [==============================] - 13s 163ms/step - loss: 0.0012 - accuracy: 0.9944 - val_loss: 0.2165 - val_accuracy: 0.2280\n",
      "Epoch 19/20\n",
      "81/81 [==============================] - 13s 158ms/step - loss: 0.0013 - accuracy: 0.9944 - val_loss: 0.2169 - val_accuracy: 0.2280\n",
      "Epoch 20/20\n",
      "81/81 [==============================] - 13s 162ms/step - loss: 0.0012 - accuracy: 0.9944 - val_loss: 0.2178 - val_accuracy: 0.2347\n"
     ]
    },
    {
     "data": {
      "text/plain": [
       "<keras.callbacks.History at 0x1edb209cbb0>"
      ]
     },
     "execution_count": 81,
     "metadata": {},
     "output_type": "execute_result"
    }
   ],
   "source": [
    "import tensorflow as tf\n",
    "\n",
    "\n",
    "# timesteps = X_train.shape[1]\n",
    "# input_dim = X_train.shape[2]\n",
    "# output_dim = 5\n",
    "\n",
    "# # Define the model\n",
    "# model = tf.keras.Sequential()\n",
    "\n",
    "# # Add the recurrent layer (Elman network)\n",
    "# model.add(tf.keras.layers.SimpleRNN(units=64, input_shape=(timesteps, input_dim)))\n",
    "\n",
    "# # Add a dense (fully connected) layer for the output\n",
    "# model.add(tf.keras.layers.Dense(units=output_dim, activation='softmax'))\n",
    "\n",
    "# # Compile the model\n",
    "# model.compile(loss='categorical_crossentropy', optimizer='adam', metrics=['accuracy'])\n",
    "\n",
    "# # Print the model summary\n",
    "# model.summary()\n",
    "\n",
    "# # Train the model\n",
    "# model.fit(X_train, y_train, epochs=10, batch_size=32, validation_data=(X_test, y_test))\n",
    "\n",
    "# Define the Elman network architecture\n",
    "input_dim = X_train.shape[2]\n",
    "hidden_dim = 100\n",
    "output_dim = y_train.shape[1]\n",
    "num_steps = X_train.shape[1]\n",
    "\n",
    "inputs = tf.keras.layers.Input(shape=(num_steps, input_dim))\n",
    "hidden_layer = tf.keras.layers.SimpleRNN(hidden_dim, activation='relu')(inputs)\n",
    "outputs = tf.keras.layers.Dense(output_dim, activation='relu')(hidden_layer)\n",
    "\n",
    "# Define the model\n",
    "model = tf.keras.Model(inputs=inputs, outputs=outputs)\n",
    "\n",
    "# Compile the model\n",
    "optimizer = tf.keras.optimizers.Adam(learning_rate=0.01)\n",
    "# optimizer = tf.keras.optimizers.Adadelta(learning_rate=0.01)\n",
    "model.compile(optimizer='adam', loss='mse', metrics=['accuracy'])\n",
    "\n",
    "# Train the model\n",
    "model.fit(X_train, y_train, epochs=20, batch_size=31, validation_data=(X_test, y_test))\n"
   ]
  },
  {
   "cell_type": "code",
   "execution_count": 82,
   "metadata": {},
   "outputs": [
    {
     "name": "stdout",
     "output_type": "stream",
     "text": [
      "24/24 [==============================] - 2s 60ms/step - loss: 0.2178 - accuracy: 0.2347\n"
     ]
    }
   ],
   "source": [
    "loss, acc = model.evaluate(X_test, y_test)"
   ]
  },
  {
   "cell_type": "code",
   "execution_count": 83,
   "metadata": {},
   "outputs": [
    {
     "name": "stdout",
     "output_type": "stream",
     "text": [
      "Accuracy: 73.92\n"
     ]
    }
   ],
   "source": [
    "import numpy as np\n",
    "\n",
    "# Evaluate the model on the test data\n",
    "loss = model.evaluate(X_test, y_test, verbose=0)\n",
    "\n",
    "# Get the model's predictions on the test data\n",
    "predictions = model.predict(X_test, verbose=0)\n",
    "\n",
    "# Convert predictions and labels to class indices\n",
    "# predicted_labels = np.argmax(predictions, axis=1)\n",
    "predicted_labels = np.round(predictions)\n",
    "\n",
    "# Compute accuracy\n",
    "accuracy = np.mean(predicted_labels == y_test)\n",
    "\n",
    "print(\"Accuracy:\", np.round(accuracy * 100, 2))\n"
   ]
  },
  {
   "cell_type": "code",
   "execution_count": 84,
   "metadata": {},
   "outputs": [
    {
     "data": {
      "text/plain": [
       "array([[1., 0., 0., 0., 0.],\n",
       "       [1., 0., 0., 0., 0.],\n",
       "       [1., 0., 0., 0., 0.],\n",
       "       ...,\n",
       "       [0., 0., 0., 0., 1.],\n",
       "       [0., 0., 0., 0., 1.],\n",
       "       [0., 0., 0., 0., 1.]], dtype=float32)"
      ]
     },
     "execution_count": 84,
     "metadata": {},
     "output_type": "execute_result"
    }
   ],
   "source": [
    "y_test"
   ]
  },
  {
   "cell_type": "code",
   "execution_count": 85,
   "metadata": {},
   "outputs": [
    {
     "data": {
      "text/plain": [
       "array([[0., 0., 0., 1., 0.],\n",
       "       [0., 0., 0., 0., 0.],\n",
       "       [0., 0., 0., 0., 0.],\n",
       "       ...,\n",
       "       [0., 0., 0., 1., 0.],\n",
       "       [0., 0., 0., 0., 0.],\n",
       "       [0., 0., 0., 1., 0.]], dtype=float32)"
      ]
     },
     "execution_count": 85,
     "metadata": {},
     "output_type": "execute_result"
    }
   ],
   "source": [
    "predicted_labels"
   ]
  },
  {
   "cell_type": "code",
   "execution_count": 86,
   "metadata": {},
   "outputs": [
    {
     "data": {
      "text/plain": [
       "array([[0., 0., 0., 0., 0.],\n",
       "       [0., 0., 0., 0., 1.],\n",
       "       [0., 0., 0., 1., 0.],\n",
       "       [0., 0., 1., 0., 0.],\n",
       "       [0., 1., 0., 0., 0.],\n",
       "       [1., 0., 0., 0., 0.]], dtype=float32)"
      ]
     },
     "execution_count": 86,
     "metadata": {},
     "output_type": "execute_result"
    }
   ],
   "source": [
    "np.unique(predicted_labels, axis=0)"
   ]
  },
  {
   "cell_type": "code",
   "execution_count": 87,
   "metadata": {},
   "outputs": [
    {
     "data": {
      "text/plain": [
       "array([[0., 0., 0., 0., 1.],\n",
       "       [0., 0., 0., 1., 0.],\n",
       "       [0., 0., 1., 0., 0.],\n",
       "       [0., 1., 0., 0., 0.],\n",
       "       [1., 0., 0., 0., 0.]], dtype=float32)"
      ]
     },
     "execution_count": 87,
     "metadata": {},
     "output_type": "execute_result"
    }
   ],
   "source": [
    "np.unique(y_test, axis=0)"
   ]
  }
 ],
 "metadata": {
  "kernelspec": {
   "display_name": "base",
   "language": "python",
   "name": "python3"
  },
  "language_info": {
   "codemirror_mode": {
    "name": "ipython",
    "version": 3
   },
   "file_extension": ".py",
   "mimetype": "text/x-python",
   "name": "python",
   "nbconvert_exporter": "python",
   "pygments_lexer": "ipython3",
   "version": "3.9.12"
  },
  "orig_nbformat": 4,
  "vscode": {
   "interpreter": {
    "hash": "ffc2c986650f75bb84df5ef0f5794d173c138677d61245fd2c4ff2debf2f2371"
   }
  }
 },
 "nbformat": 4,
 "nbformat_minor": 2
}
