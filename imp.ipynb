{
 "cells": [
  {
   "cell_type": "code",
   "execution_count": 46,
   "metadata": {},
   "outputs": [],
   "source": [
    "import numpy as np\n",
    "import pandas as pd"
   ]
  },
  {
   "cell_type": "code",
   "execution_count": 47,
   "metadata": {},
   "outputs": [],
   "source": [
    "data = np.array(pd.read_csv(\"Dataset/Text_Emotion_Data.csv\"))\n",
    "stopwords = np.array(pd.read_csv(\"Dataset/stopwords.txt\", sep=\" \", header=None)).flatten()"
   ]
  },
  {
   "cell_type": "code",
   "execution_count": 48,
   "metadata": {},
   "outputs": [],
   "source": [
    "X = data[:, 0]\n",
    "y = data[:, 1]"
   ]
  },
  {
   "cell_type": "code",
   "execution_count": 49,
   "metadata": {},
   "outputs": [],
   "source": [
    "import re\n",
    "\n",
    "def remove_none_alpha(x):\n",
    "    regex = re.compile('[^a-zA-Z ]')\n",
    "    return regex.sub('', x)"
   ]
  },
  {
   "cell_type": "code",
   "execution_count": 50,
   "metadata": {},
   "outputs": [],
   "source": [
    "stopwords = [remove_none_alpha(w) for w in stopwords]"
   ]
  },
  {
   "cell_type": "code",
   "execution_count": 51,
   "metadata": {},
   "outputs": [],
   "source": [
    "X_seq = []\n",
    "for sentence in X:\n",
    "    words_seq = remove_none_alpha(sentence).lower().split(\" \")\n",
    "    words_seq = [w for w in words_seq if len(w) > 2]\n",
    "    words_seq = [w for w in words_seq if w not in stopwords]\n",
    "    X_seq.append(words_seq)"
   ]
  },
  {
   "cell_type": "code",
   "execution_count": 52,
   "metadata": {},
   "outputs": [],
   "source": [
    "max_len = len(max(X_seq, key=len))\n",
    "\n",
    "# create a new list of lists with the desired size, padding with empty strings\n",
    "sequences = [['' for _ in range(max_len)] for _ in range(len(X_seq))]\n",
    "\n",
    "# copy the elements from the original lists into the new list, padding with empty strings as needed\n",
    "for i, sequence in enumerate(X_seq):\n",
    "    sequences[i][:len(sequence)] = sequence"
   ]
  },
  {
   "cell_type": "code",
   "execution_count": 53,
   "metadata": {},
   "outputs": [
    {
     "name": "stdout",
     "output_type": "stream",
     "text": [
      "[0, 0, 0, 1, 2, 3]\n"
     ]
    }
   ],
   "source": [
    "my_list = [1, 2, 3]\n",
    "threshold = 6\n",
    "\n",
    "my_list = [0] * (threshold - len(my_list)) + my_list\n",
    "\n",
    "print(my_list)"
   ]
  },
  {
   "cell_type": "code",
   "execution_count": 54,
   "metadata": {},
   "outputs": [],
   "source": [
    "import numpy as np\n",
    "\n",
    "def one_hot_encode(sequence, word_to_idx):\n",
    "    num_words = len(word_to_idx)\n",
    "    encoding = np.zeros((len(sequence), num_words))\n",
    "    for i, word in enumerate(sequence):\n",
    "        if word in word_to_idx:\n",
    "            encoding[i, word_to_idx[word]] = 1\n",
    "    return encoding\n",
    "\n",
    "def one_hot_encode2(sequence, word_to_idx, max_bit_num):\n",
    "    encoding = np.zeros((len(sequence), max_bit_num))\n",
    "    for i, word in enumerate(sequence):\n",
    "        if word in word_to_idx:            \n",
    "            binary_string = bin(word_to_idx[word])[2:]  # exclude the \"0b\" prefix\n",
    "            binary_array = np.array([int(digit) for digit in binary_string])\n",
    "            binary_array = np.pad(binary_array, (0, max_bit_num - len(binary_array)), 'constant')\n",
    "\n",
    "            encoding[i, :] = binary_array\n",
    "    return encoding\n",
    "\n",
    "unique_words = list(set([word for sequence in sequences for word in sequence]))\n",
    "word_to_idx = {word: idx for idx, word in enumerate(unique_words)}\n",
    "\n",
    "max_bit_num = 1\n",
    "while(True):\n",
    "    if(2**max_bit_num > len(unique_words)): break\n",
    "    max_bit_num += 1\n",
    "\n",
    "encoded_sequences = []\n",
    "for sequence in sequences:\n",
    "    encoded_sequences.append(one_hot_encode2(sequence, word_to_idx, max_bit_num))\n",
    "\n",
    "encoded_sequences = np.array(encoded_sequences)"
   ]
  },
  {
   "cell_type": "code",
   "execution_count": 55,
   "metadata": {},
   "outputs": [],
   "source": [
    "X_train = encoded_sequences[:-150]\n",
    "X_test = encoded_sequences[-150:]\n",
    "y_train_str = y[:-150]\n",
    "y_test_str = y[-150:]"
   ]
  },
  {
   "cell_type": "code",
   "execution_count": 56,
   "metadata": {},
   "outputs": [],
   "source": [
    "from sklearn import preprocessing\n",
    "\n",
    "le = preprocessing.LabelEncoder()\n",
    "y_train = le.fit_transform(y_train_str)\n",
    "y_test = le.fit_transform(y_test_str)"
   ]
  },
  {
   "cell_type": "code",
   "execution_count": 57,
   "metadata": {},
   "outputs": [
    {
     "data": {
      "text/plain": [
       "array([2, 4, 2, ..., 1, 2, 3])"
      ]
     },
     "execution_count": 57,
     "metadata": {},
     "output_type": "execute_result"
    }
   ],
   "source": [
    "y_train"
   ]
  },
  {
   "cell_type": "code",
   "execution_count": 70,
   "metadata": {},
   "outputs": [
    {
     "name": "stdout",
     "output_type": "stream",
     "text": [
      "Epoch 1/10\n",
      "97/97 [==============================] - 2s 3ms/step - loss: 2.3561 - accuracy: 0.0000e+00\n",
      "Epoch 2/10\n",
      "97/97 [==============================] - 0s 3ms/step - loss: 2.0055 - accuracy: 0.0000e+00\n",
      "Epoch 3/10\n",
      "97/97 [==============================] - 0s 3ms/step - loss: 1.9994 - accuracy: 0.0000e+00\n",
      "Epoch 4/10\n",
      "97/97 [==============================] - 0s 3ms/step - loss: 1.9982 - accuracy: 0.0000e+00\n",
      "Epoch 5/10\n",
      "97/97 [==============================] - 0s 3ms/step - loss: 2.0013 - accuracy: 0.0000e+00\n",
      "Epoch 6/10\n",
      "97/97 [==============================] - 0s 3ms/step - loss: 2.0066 - accuracy: 0.0000e+00\n",
      "Epoch 7/10\n",
      "97/97 [==============================] - 0s 3ms/step - loss: 1.9888 - accuracy: 0.0000e+00\n",
      "Epoch 8/10\n",
      "97/97 [==============================] - 0s 3ms/step - loss: 1.9896 - accuracy: 0.0000e+00\n",
      "Epoch 9/10\n",
      "97/97 [==============================] - 0s 3ms/step - loss: 2.0068 - accuracy: 0.0000e+00\n",
      "Epoch 10/10\n",
      "97/97 [==============================] - 0s 3ms/step - loss: 2.0017 - accuracy: 0.0000e+00\n"
     ]
    },
    {
     "data": {
      "text/plain": [
       "<keras.callbacks.History at 0x1a6d87b8910>"
      ]
     },
     "execution_count": 70,
     "metadata": {},
     "output_type": "execute_result"
    }
   ],
   "source": [
    "import tensorflow as tf\n",
    "\n",
    "# Define the Elman network architecture\n",
    "input_dim = 13\n",
    "hidden_dim = 20\n",
    "output_dim = 1\n",
    "num_steps = 19\n",
    "\n",
    "inputs = tf.keras.layers.Input(shape=(num_steps, input_dim))\n",
    "hidden_layer = tf.keras.layers.SimpleRNN(hidden_dim, activation='sigmoid')(inputs)\n",
    "outputs = tf.keras.layers.Dense(output_dim, activation='linear')(hidden_layer)\n",
    "\n",
    "# Define the model\n",
    "model = tf.keras.Model(inputs=inputs, outputs=outputs)\n",
    "\n",
    "# Compile the model\n",
    "optimizer = tf.keras.optimizers.Adam(learning_rate=0.01)\n",
    "model.compile(optimizer=optimizer, loss='mse', metrics=[tf.metrics.Accuracy()])\n",
    "\n",
    "# Train the model\n",
    "model.fit(X_train, y_train, epochs=10, batch_size=32)\n"
   ]
  },
  {
   "cell_type": "code",
   "execution_count": 71,
   "metadata": {},
   "outputs": [
    {
     "name": "stdout",
     "output_type": "stream",
     "text": [
      "Accuracy: 0.19333333333333333\n"
     ]
    }
   ],
   "source": [
    "import numpy as np\n",
    "\n",
    "# Assuming you have test data and labels, x_test and y_test respectively\n",
    "\n",
    "# Evaluate the model on the test data\n",
    "loss = model.evaluate(X_test, y_test, verbose=0)\n",
    "\n",
    "# Get the model's predictions on the test data\n",
    "predictions = model.predict(X_test, verbose=0)\n",
    "\n",
    "# Convert predictions and labels to class indices\n",
    "predicted_labels = np.argmax(predictions, axis=1)\n",
    "\n",
    "# Compute accuracy\n",
    "accuracy = np.mean(predicted_labels == y_test)\n",
    "\n",
    "print(\"Accuracy:\", accuracy)\n"
   ]
  },
  {
   "cell_type": "code",
   "execution_count": null,
   "metadata": {},
   "outputs": [],
   "source": []
  }
 ],
 "metadata": {
  "kernelspec": {
   "display_name": "Python 3",
   "language": "python",
   "name": "python3"
  },
  "language_info": {
   "codemirror_mode": {
    "name": "ipython",
    "version": 3
   },
   "file_extension": ".py",
   "mimetype": "text/x-python",
   "name": "python",
   "nbconvert_exporter": "python",
   "pygments_lexer": "ipython3",
   "version": "3.9.15"
  },
  "orig_nbformat": 4,
  "vscode": {
   "interpreter": {
    "hash": "ffc2c986650f75bb84df5ef0f5794d173c138677d61245fd2c4ff2debf2f2371"
   }
  }
 },
 "nbformat": 4,
 "nbformat_minor": 2
}
