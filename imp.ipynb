{
 "cells": [
  {
   "cell_type": "code",
   "execution_count": 1,
   "metadata": {},
   "outputs": [],
   "source": [
    "import numpy as np\n",
    "import pandas as pd"
   ]
  },
  {
   "cell_type": "code",
   "execution_count": 2,
   "metadata": {},
   "outputs": [],
   "source": [
    "data = np.array(pd.read_csv(\"Dataset/Text_Emotion_Data.csv\"))\n",
    "stopwords = np.array(pd.read_csv(\"Dataset/stopwords.txt\", sep=\" \", header=None)).flatten()"
   ]
  },
  {
   "cell_type": "code",
   "execution_count": 3,
   "metadata": {},
   "outputs": [],
   "source": [
    "X = data[:, 0]\n",
    "y = data[:, 1]"
   ]
  },
  {
   "cell_type": "code",
   "execution_count": 4,
   "metadata": {},
   "outputs": [],
   "source": [
    "import re\n",
    "\n",
    "def remove_none_alpha(x):\n",
    "    regex = re.compile('[^a-zA-Z ]')\n",
    "    return regex.sub('', x)"
   ]
  },
  {
   "cell_type": "code",
   "execution_count": 5,
   "metadata": {},
   "outputs": [],
   "source": [
    "stopwords = [remove_none_alpha(w) for w in stopwords]"
   ]
  },
  {
   "cell_type": "code",
   "execution_count": 6,
   "metadata": {},
   "outputs": [],
   "source": [
    "X_seq = []\n",
    "for sentence in X:\n",
    "    words_seq = remove_none_alpha(sentence).lower().split(\" \")\n",
    "    words_seq = [w for w in words_seq if len(w) > 2]\n",
    "    words_seq = [w for w in words_seq if w not in stopwords]\n",
    "    X_seq.append(words_seq)"
   ]
  },
  {
   "cell_type": "code",
   "execution_count": 7,
   "metadata": {},
   "outputs": [],
   "source": [
    "max_len = len(max(X_seq, key=len))\n",
    "\n",
    "# create a new list of lists with the desired size, padding with empty strings\n",
    "sequences = [['' for _ in range(max_len)] for _ in range(len(X_seq))]\n",
    "\n",
    "# copy the elements from the original lists into the new list, padding with empty strings as needed\n",
    "for i, sequence in enumerate(X_seq):\n",
    "    sequences[i][:len(sequence)] = sequence"
   ]
  },
  {
   "cell_type": "code",
   "execution_count": 8,
   "metadata": {},
   "outputs": [
    {
     "name": "stdout",
     "output_type": "stream",
     "text": [
      "[0, 0, 0, 1, 2, 3]\n"
     ]
    }
   ],
   "source": [
    "my_list = [1, 2, 3]\n",
    "threshold = 6\n",
    "\n",
    "my_list = [0] * (threshold - len(my_list)) + my_list\n",
    "\n",
    "print(my_list)"
   ]
  },
  {
   "cell_type": "code",
   "execution_count": 9,
   "metadata": {},
   "outputs": [],
   "source": [
    "import numpy as np\n",
    "\n",
    "def one_hot_encode(sequence, word_to_idx):\n",
    "    num_words = len(word_to_idx)\n",
    "    encoding = np.zeros((len(sequence), num_words))\n",
    "    for i, word in enumerate(sequence):\n",
    "        if word in word_to_idx:\n",
    "            encoding[i, word_to_idx[word]] = 1\n",
    "    return encoding\n",
    "\n",
    "def one_hot_encode2(sequence, word_to_idx, max_bit_num):\n",
    "    encoding = np.zeros((len(sequence), max_bit_num))\n",
    "    for i, word in enumerate(sequence):\n",
    "        if word in word_to_idx:            \n",
    "            binary_string = bin(word_to_idx[word])[2:]  # exclude the \"0b\" prefix\n",
    "            binary_array = np.array([int(digit) for digit in binary_string])\n",
    "            binary_array = np.pad(binary_array, (0, max_bit_num - len(binary_array)), 'constant')\n",
    "\n",
    "            encoding[i, :] = binary_array\n",
    "    return encoding\n",
    "\n",
    "unique_words = list(set([word for sequence in sequences for word in sequence]))\n",
    "word_to_idx = {word: idx for idx, word in enumerate(unique_words)}\n",
    "\n",
    "max_bit_num = 1\n",
    "while(True):\n",
    "    if(2**max_bit_num > len(unique_words)): break\n",
    "    max_bit_num += 1\n",
    "\n",
    "encoded_sequences = []\n",
    "for sequence in sequences:\n",
    "    encoded_sequences.append(one_hot_encode2(sequence, word_to_idx, max_bit_num))\n",
    "\n",
    "encoded_sequences = np.array(encoded_sequences)"
   ]
  },
  {
   "cell_type": "code",
   "execution_count": 10,
   "metadata": {},
   "outputs": [],
   "source": [
    "X_train = encoded_sequences[:-150]\n",
    "X_test = encoded_sequences[-150:]\n",
    "y_train_str = y[:-150]\n",
    "y_test_str = y[-150:]"
   ]
  },
  {
   "cell_type": "code",
   "execution_count": 11,
   "metadata": {},
   "outputs": [
    {
     "name": "stderr",
     "output_type": "stream",
     "text": [
      "c:\\anaconda\\anaconda3\\lib\\site-packages\\scipy\\__init__.py:146: UserWarning: A NumPy version >=1.16.5 and <1.23.0 is required for this version of SciPy (detected version 1.24.2\n",
      "  warnings.warn(f\"A NumPy version >={np_minversion} and <{np_maxversion}\"\n"
     ]
    }
   ],
   "source": [
    "from sklearn import preprocessing\n",
    "\n",
    "le = preprocessing.LabelEncoder()\n",
    "y_train = le.fit_transform(y_train_str)"
   ]
  },
  {
   "cell_type": "code",
   "execution_count": 12,
   "metadata": {},
   "outputs": [
    {
     "data": {
      "text/plain": [
       "array([2, 4, 2, ..., 1, 2, 3])"
      ]
     },
     "execution_count": 12,
     "metadata": {},
     "output_type": "execute_result"
    }
   ],
   "source": [
    "y_train"
   ]
  },
  {
   "cell_type": "code",
   "execution_count": 13,
   "metadata": {},
   "outputs": [
    {
     "ename": "ModuleNotFoundError",
     "evalue": "No module named 'tensorflow'",
     "output_type": "error",
     "traceback": [
      "\u001b[1;31m---------------------------------------------------------------------------\u001b[0m",
      "\u001b[1;31mModuleNotFoundError\u001b[0m                       Traceback (most recent call last)",
      "\u001b[1;32mc:\\Users\\Abbas Mrb\\Downloads\\NNDL-Pr2\\NNDL-Pr2\\imp.ipynb Cell 13\u001b[0m in \u001b[0;36m<cell line: 1>\u001b[1;34m()\u001b[0m\n\u001b[1;32m----> <a href='vscode-notebook-cell:/c%3A/Users/Abbas%20Mrb/Downloads/NNDL-Pr2/NNDL-Pr2/imp.ipynb#X15sZmlsZQ%3D%3D?line=0'>1</a>\u001b[0m \u001b[39mimport\u001b[39;00m \u001b[39mtensorflow\u001b[39;00m \u001b[39mas\u001b[39;00m \u001b[39mtf\u001b[39;00m\n\u001b[0;32m      <a href='vscode-notebook-cell:/c%3A/Users/Abbas%20Mrb/Downloads/NNDL-Pr2/NNDL-Pr2/imp.ipynb#X15sZmlsZQ%3D%3D?line=2'>3</a>\u001b[0m \u001b[39m# Define the Elman network architecture\u001b[39;00m\n\u001b[0;32m      <a href='vscode-notebook-cell:/c%3A/Users/Abbas%20Mrb/Downloads/NNDL-Pr2/NNDL-Pr2/imp.ipynb#X15sZmlsZQ%3D%3D?line=3'>4</a>\u001b[0m input_dim \u001b[39m=\u001b[39m \u001b[39m10\u001b[39m\n",
      "\u001b[1;31mModuleNotFoundError\u001b[0m: No module named 'tensorflow'"
     ]
    }
   ],
   "source": [
    "import tensorflow as tf\n",
    "\n",
    "# Define the Elman network architecture\n",
    "input_dim = 10\n",
    "hidden_dim = 20\n",
    "output_dim = 1\n",
    "num_steps = 5\n",
    "\n",
    "inputs = tf.keras.layers.Input(shape=(num_steps, input_dim))\n",
    "hidden_layer = tf.keras.layers.SimpleRNN(hidden_dim, activation='sigmoid')(inputs)\n",
    "outputs = tf.keras.layers.Dense(output_dim, activation='linear')(hidden_layer)\n",
    "\n",
    "# Define the model\n",
    "model = tf.keras.Model(inputs=inputs, outputs=outputs)\n",
    "\n",
    "# Compile the model\n",
    "optimizer = tf.keras.optimizers.Adam(learning_rate=0.001)\n",
    "model.compile(optimizer=optimizer, loss='mse')\n",
    "\n",
    "# Train the model\n",
    "model.fit(X_train, y_train, epochs=10, batch_size=32)\n"
   ]
  }
 ],
 "metadata": {
  "kernelspec": {
   "display_name": "Python 3",
   "language": "python",
   "name": "python3"
  },
  "language_info": {
   "codemirror_mode": {
    "name": "ipython",
    "version": 3
   },
   "file_extension": ".py",
   "mimetype": "text/x-python",
   "name": "python",
   "nbconvert_exporter": "python",
   "pygments_lexer": "ipython3",
   "version": "3.9.12"
  },
  "orig_nbformat": 4
 },
 "nbformat": 4,
 "nbformat_minor": 2
}
