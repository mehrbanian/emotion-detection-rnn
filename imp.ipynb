{
 "cells": [
  {
   "cell_type": "code",
   "execution_count": 1,
   "metadata": {},
   "outputs": [],
   "source": [
    "import numpy as np\n",
    "import pandas as pd"
   ]
  },
  {
   "cell_type": "code",
   "execution_count": 2,
   "metadata": {},
   "outputs": [],
   "source": [
    "data = np.array(pd.read_csv(\"Dataset/Text_Emotion_Data.csv\"))\n",
    "stopwords = np.array(pd.read_csv(\"Dataset/stopwords.txt\", sep=\" \", header=None)).flatten()"
   ]
  },
  {
   "cell_type": "code",
   "execution_count": 3,
   "metadata": {},
   "outputs": [],
   "source": [
    "X = data[:, 0]\n",
    "y = data[:, 1]"
   ]
  },
  {
   "cell_type": "code",
   "execution_count": 4,
   "metadata": {},
   "outputs": [],
   "source": [
    "import re\n",
    "\n",
    "def remove_none_alpha(x):\n",
    "    regex = re.compile('[^a-zA-Z ]')\n",
    "    return regex.sub('', x)"
   ]
  },
  {
   "cell_type": "code",
   "execution_count": 5,
   "metadata": {},
   "outputs": [],
   "source": [
    "stopwords = [remove_none_alpha(w) for w in stopwords]"
   ]
  },
  {
   "cell_type": "code",
   "execution_count": 6,
   "metadata": {},
   "outputs": [],
   "source": [
    "X_seq = []\n",
    "for sentence in X:\n",
    "    words_seq = remove_none_alpha(sentence).lower().split(\" \")\n",
    "    words_seq = [w for w in words_seq if len(w) > 2]\n",
    "    words_seq = [w for w in words_seq if w not in stopwords]\n",
    "    X_seq.append(words_seq)"
   ]
  },
  {
   "cell_type": "code",
   "execution_count": 7,
   "metadata": {},
   "outputs": [],
   "source": [
    "max_len = len(max(X_seq, key=len))\n",
    "\n",
    "# create a new list of lists with the desired size, padding with empty strings\n",
    "sequences = [['' for _ in range(max_len)] for _ in range(len(X_seq))]\n",
    "\n",
    "# copy the elements from the original lists into the new list, padding with empty strings as needed\n",
    "for i, sequence in enumerate(X_seq):\n",
    "    sequences[i][:len(sequence)] = sequence"
   ]
  },
  {
   "cell_type": "code",
   "execution_count": 8,
   "metadata": {},
   "outputs": [],
   "source": [
    "import numpy as np\n",
    "\n",
    "def one_hot_encode(sequence, word_to_idx):\n",
    "    num_words = len(word_to_idx)\n",
    "    encoding = np.zeros((len(sequence), num_words))\n",
    "    for i, word in enumerate(sequence):\n",
    "        if word in word_to_idx:\n",
    "            encoding[i, word_to_idx[word]] = 1\n",
    "    return encoding\n",
    "\n",
    "def one_hot_encode2(sequence, word_to_idx, max_bit_num):\n",
    "    encoding = np.zeros((len(sequence), max_bit_num))\n",
    "    for i, word in enumerate(sequence):\n",
    "        if word in word_to_idx:            \n",
    "            binary_string = bin(word_to_idx[word])[2:]  # exclude the \"0b\" prefix\n",
    "            binary_array = np.array([int(digit) for digit in binary_string])\n",
    "            binary_array = np.pad(binary_array, (0, max_bit_num - len(binary_array)), 'constant')\n",
    "\n",
    "            encoding[i, :] = binary_array\n",
    "    return encoding\n",
    "\n",
    "unique_words = list(set([word for sequence in sequences for word in sequence]))\n",
    "word_to_idx = {word: idx for idx, word in enumerate(unique_words)}\n",
    "\n",
    "max_bit_num = 1\n",
    "while(True):\n",
    "    if(2**max_bit_num > len(unique_words)): break\n",
    "    max_bit_num += 1\n",
    "\n",
    "encoded_sequences = []\n",
    "for sequence in sequences:\n",
    "    encoded_sequences.append(one_hot_encode2(sequence, word_to_idx, max_bit_num))\n",
    "\n",
    "encoded_sequences = np.array(encoded_sequences)"
   ]
  },
  {
   "cell_type": "code",
   "execution_count": 9,
   "metadata": {},
   "outputs": [],
   "source": [
    "X_train = encoded_sequences[:-150]\n",
    "X_test = encoded_sequences[-150:]\n",
    "# y_train_str = y[:-150]\n",
    "# y_test_str = y[-150:]"
   ]
  },
  {
   "cell_type": "code",
   "execution_count": 10,
   "metadata": {},
   "outputs": [],
   "source": [
    "from sklearn import preprocessing\n",
    "\n",
    "le = preprocessing.LabelEncoder()\n",
    "y_encoded = le.fit_transform(y)"
   ]
  },
  {
   "cell_type": "code",
   "execution_count": 11,
   "metadata": {},
   "outputs": [],
   "source": [
    "# Define the function you want to apply\n",
    "def to_binary(num):\n",
    "    binary_string = bin(num)[2:]  # exclude the \"0b\" prefix\n",
    "    binary_array = np.array([int(digit) for digit in binary_string])\n",
    "    binary_array = np.pad(binary_array, (0, 3 - len(binary_array)), 'constant')\n",
    "    return binary_array\n",
    "\n",
    "# Create a NumPy array\n",
    "arr = np.array(y_encoded)\n",
    "\n",
    "# Initialize the result array\n",
    "y_encoded_onehot = np.empty((arr.shape[0], 3), dtype=int)\n",
    "\n",
    "# Apply the function on all elements of the array\n",
    "for i, num in enumerate(arr):\n",
    "    y_encoded_onehot[i] = to_binary(num)\n"
   ]
  },
  {
   "cell_type": "code",
   "execution_count": 12,
   "metadata": {},
   "outputs": [],
   "source": [
    "y_train = y_encoded_onehot[:-150]\n",
    "y_test = y_encoded_onehot[-150:]"
   ]
  },
  {
   "cell_type": "code",
   "execution_count": 13,
   "metadata": {},
   "outputs": [
    {
     "name": "stdout",
     "output_type": "stream",
     "text": [
      "Epoch 1/100\n",
      "97/97 [==============================] - 3s 5ms/step - loss: 0.1316 - accuracy: 0.0000e+00\n",
      "Epoch 2/100\n",
      "97/97 [==============================] - 0s 4ms/step - loss: 0.1144 - accuracy: 0.0000e+00\n",
      "Epoch 3/100\n",
      "97/97 [==============================] - 0s 4ms/step - loss: 0.1138 - accuracy: 0.0000e+00\n",
      "Epoch 4/100\n",
      "97/97 [==============================] - 0s 4ms/step - loss: 0.1128 - accuracy: 0.0000e+00\n",
      "Epoch 5/100\n",
      "97/97 [==============================] - 0s 4ms/step - loss: 0.1106 - accuracy: 0.0000e+00\n",
      "Epoch 6/100\n",
      "97/97 [==============================] - 0s 4ms/step - loss: 0.1083 - accuracy: 0.0000e+00\n",
      "Epoch 7/100\n",
      "97/97 [==============================] - 0s 4ms/step - loss: 0.1092 - accuracy: 0.0000e+00\n",
      "Epoch 8/100\n",
      "97/97 [==============================] - 0s 4ms/step - loss: 0.1099 - accuracy: 0.0000e+00\n",
      "Epoch 9/100\n",
      "97/97 [==============================] - 0s 4ms/step - loss: 0.1112 - accuracy: 0.0000e+00\n",
      "Epoch 10/100\n",
      "97/97 [==============================] - 0s 4ms/step - loss: 0.1085 - accuracy: 0.0000e+00\n",
      "Epoch 11/100\n",
      "97/97 [==============================] - 0s 4ms/step - loss: 0.1087 - accuracy: 0.0000e+00\n",
      "Epoch 12/100\n",
      "97/97 [==============================] - 0s 4ms/step - loss: 0.1101 - accuracy: 0.0000e+00\n",
      "Epoch 13/100\n",
      "97/97 [==============================] - 0s 4ms/step - loss: 0.1085 - accuracy: 0.0000e+00\n",
      "Epoch 14/100\n",
      "97/97 [==============================] - 0s 4ms/step - loss: 0.1086 - accuracy: 0.0000e+00\n",
      "Epoch 15/100\n",
      "97/97 [==============================] - 0s 4ms/step - loss: 0.1117 - accuracy: 0.0000e+00\n",
      "Epoch 16/100\n",
      "97/97 [==============================] - 0s 4ms/step - loss: 0.1106 - accuracy: 0.0000e+00\n",
      "Epoch 17/100\n",
      "97/97 [==============================] - 0s 4ms/step - loss: 0.1085 - accuracy: 0.0000e+00\n",
      "Epoch 18/100\n",
      "97/97 [==============================] - 0s 4ms/step - loss: 0.1090 - accuracy: 0.0000e+00\n",
      "Epoch 19/100\n",
      "97/97 [==============================] - 0s 4ms/step - loss: 0.1106 - accuracy: 0.0000e+00\n",
      "Epoch 20/100\n",
      "97/97 [==============================] - 0s 4ms/step - loss: 0.1108 - accuracy: 0.0000e+00\n",
      "Epoch 21/100\n",
      "97/97 [==============================] - 0s 5ms/step - loss: 0.1108 - accuracy: 0.0000e+00\n",
      "Epoch 22/100\n",
      "97/97 [==============================] - 0s 4ms/step - loss: 0.1085 - accuracy: 0.0000e+00\n",
      "Epoch 23/100\n",
      "97/97 [==============================] - 0s 4ms/step - loss: 0.1088 - accuracy: 0.0000e+00\n",
      "Epoch 24/100\n",
      "97/97 [==============================] - 0s 4ms/step - loss: 0.1126 - accuracy: 0.0000e+00\n",
      "Epoch 25/100\n",
      "97/97 [==============================] - 0s 4ms/step - loss: 0.1097 - accuracy: 0.0000e+00\n",
      "Epoch 26/100\n",
      "97/97 [==============================] - 0s 4ms/step - loss: 0.1080 - accuracy: 0.0000e+00\n",
      "Epoch 27/100\n",
      "97/97 [==============================] - 0s 4ms/step - loss: 0.1094 - accuracy: 0.0000e+00\n",
      "Epoch 28/100\n",
      "97/97 [==============================] - 0s 4ms/step - loss: 0.1100 - accuracy: 0.0000e+00\n",
      "Epoch 29/100\n",
      "97/97 [==============================] - 0s 4ms/step - loss: 0.1103 - accuracy: 0.0000e+00\n",
      "Epoch 30/100\n",
      "97/97 [==============================] - 0s 4ms/step - loss: 0.1092 - accuracy: 0.0000e+00\n",
      "Epoch 31/100\n",
      "97/97 [==============================] - 0s 4ms/step - loss: 0.1091 - accuracy: 0.0000e+00\n",
      "Epoch 32/100\n",
      "97/97 [==============================] - 0s 4ms/step - loss: 0.1117 - accuracy: 0.0000e+00\n",
      "Epoch 33/100\n",
      "97/97 [==============================] - 0s 4ms/step - loss: 0.1138 - accuracy: 0.0000e+00\n",
      "Epoch 34/100\n",
      "97/97 [==============================] - 0s 4ms/step - loss: 0.1104 - accuracy: 0.0000e+00\n",
      "Epoch 35/100\n",
      "97/97 [==============================] - 0s 4ms/step - loss: 0.1096 - accuracy: 0.0000e+00\n",
      "Epoch 36/100\n",
      "97/97 [==============================] - 0s 4ms/step - loss: 0.1119 - accuracy: 0.0000e+00\n",
      "Epoch 37/100\n",
      "97/97 [==============================] - 0s 4ms/step - loss: 0.1087 - accuracy: 0.0000e+00\n",
      "Epoch 38/100\n",
      "97/97 [==============================] - 0s 4ms/step - loss: 0.1105 - accuracy: 0.0000e+00\n",
      "Epoch 39/100\n",
      "97/97 [==============================] - 0s 4ms/step - loss: 0.1093 - accuracy: 0.0000e+00\n",
      "Epoch 40/100\n",
      "97/97 [==============================] - 0s 4ms/step - loss: 0.1131 - accuracy: 0.0000e+00\n",
      "Epoch 41/100\n",
      "97/97 [==============================] - 0s 4ms/step - loss: 0.1094 - accuracy: 0.0000e+00\n",
      "Epoch 42/100\n",
      "97/97 [==============================] - 0s 4ms/step - loss: 0.1137 - accuracy: 0.0000e+00\n",
      "Epoch 43/100\n",
      "97/97 [==============================] - 0s 4ms/step - loss: 0.1093 - accuracy: 0.0000e+00\n",
      "Epoch 44/100\n",
      "97/97 [==============================] - 0s 4ms/step - loss: 0.1081 - accuracy: 0.0000e+00\n",
      "Epoch 45/100\n",
      "97/97 [==============================] - 0s 4ms/step - loss: 0.1121 - accuracy: 0.0000e+00\n",
      "Epoch 46/100\n",
      "97/97 [==============================] - 0s 4ms/step - loss: 0.1111 - accuracy: 0.0000e+00\n",
      "Epoch 47/100\n",
      "97/97 [==============================] - 0s 4ms/step - loss: 0.1084 - accuracy: 0.0000e+00\n",
      "Epoch 48/100\n",
      "97/97 [==============================] - 0s 4ms/step - loss: 0.1092 - accuracy: 0.0000e+00\n",
      "Epoch 49/100\n",
      "97/97 [==============================] - 0s 4ms/step - loss: 0.1092 - accuracy: 0.0000e+00\n",
      "Epoch 50/100\n",
      "97/97 [==============================] - 0s 4ms/step - loss: 0.1132 - accuracy: 0.0000e+00\n",
      "Epoch 51/100\n",
      "97/97 [==============================] - 0s 4ms/step - loss: 0.1095 - accuracy: 0.0000e+00\n",
      "Epoch 52/100\n",
      "97/97 [==============================] - 0s 4ms/step - loss: 0.1097 - accuracy: 0.0000e+00\n",
      "Epoch 53/100\n",
      "97/97 [==============================] - 0s 4ms/step - loss: 0.1120 - accuracy: 0.0000e+00\n",
      "Epoch 54/100\n",
      "97/97 [==============================] - 0s 4ms/step - loss: 0.1103 - accuracy: 0.0000e+00\n",
      "Epoch 55/100\n",
      "97/97 [==============================] - 0s 4ms/step - loss: 0.1087 - accuracy: 0.0000e+00\n",
      "Epoch 56/100\n",
      "97/97 [==============================] - 0s 4ms/step - loss: 0.1103 - accuracy: 0.0000e+00\n",
      "Epoch 57/100\n",
      "97/97 [==============================] - 0s 4ms/step - loss: 0.1103 - accuracy: 0.0000e+00\n",
      "Epoch 58/100\n",
      "97/97 [==============================] - 0s 4ms/step - loss: 0.1079 - accuracy: 0.0000e+00\n",
      "Epoch 59/100\n",
      "97/97 [==============================] - 0s 4ms/step - loss: 0.1105 - accuracy: 0.0000e+00\n",
      "Epoch 60/100\n",
      "97/97 [==============================] - 0s 4ms/step - loss: 0.1105 - accuracy: 0.0000e+00\n",
      "Epoch 61/100\n",
      "97/97 [==============================] - 0s 4ms/step - loss: 0.1083 - accuracy: 0.0000e+00\n",
      "Epoch 62/100\n",
      "97/97 [==============================] - 0s 4ms/step - loss: 0.1131 - accuracy: 0.0000e+00\n",
      "Epoch 63/100\n",
      "97/97 [==============================] - 0s 4ms/step - loss: 0.1107 - accuracy: 0.0000e+00\n",
      "Epoch 64/100\n",
      "97/97 [==============================] - 0s 4ms/step - loss: 0.1095 - accuracy: 0.0000e+00\n",
      "Epoch 65/100\n",
      "97/97 [==============================] - 0s 4ms/step - loss: 0.1099 - accuracy: 0.0000e+00\n",
      "Epoch 66/100\n",
      "97/97 [==============================] - 0s 4ms/step - loss: 0.1123 - accuracy: 0.0000e+00\n",
      "Epoch 67/100\n",
      "97/97 [==============================] - 0s 4ms/step - loss: 0.1104 - accuracy: 0.0000e+00\n",
      "Epoch 68/100\n",
      "97/97 [==============================] - 0s 4ms/step - loss: 0.1106 - accuracy: 0.0000e+00\n",
      "Epoch 69/100\n",
      "97/97 [==============================] - 0s 4ms/step - loss: 0.1113 - accuracy: 0.0000e+00\n",
      "Epoch 70/100\n",
      "97/97 [==============================] - 0s 4ms/step - loss: 0.1094 - accuracy: 0.0000e+00\n",
      "Epoch 71/100\n",
      "97/97 [==============================] - 0s 4ms/step - loss: 0.1116 - accuracy: 0.0000e+00\n",
      "Epoch 72/100\n",
      "97/97 [==============================] - 0s 4ms/step - loss: 0.1096 - accuracy: 0.0000e+00\n",
      "Epoch 73/100\n",
      "97/97 [==============================] - 0s 4ms/step - loss: 0.1148 - accuracy: 0.0000e+00\n",
      "Epoch 74/100\n",
      "97/97 [==============================] - 0s 5ms/step - loss: 0.1099 - accuracy: 0.0000e+00\n",
      "Epoch 75/100\n",
      "97/97 [==============================] - 0s 4ms/step - loss: 0.1097 - accuracy: 0.0000e+00\n",
      "Epoch 76/100\n",
      "97/97 [==============================] - 0s 4ms/step - loss: 0.1095 - accuracy: 0.0000e+00\n",
      "Epoch 77/100\n",
      "97/97 [==============================] - 0s 4ms/step - loss: 0.1100 - accuracy: 0.0000e+00\n",
      "Epoch 78/100\n",
      "97/97 [==============================] - 0s 4ms/step - loss: 0.1095 - accuracy: 0.0000e+00\n",
      "Epoch 79/100\n",
      "97/97 [==============================] - 0s 4ms/step - loss: 0.1094 - accuracy: 0.0000e+00\n",
      "Epoch 80/100\n",
      "97/97 [==============================] - 0s 4ms/step - loss: 0.1095 - accuracy: 0.0000e+00\n",
      "Epoch 81/100\n",
      "97/97 [==============================] - 0s 4ms/step - loss: 0.1085 - accuracy: 0.0000e+00\n",
      "Epoch 82/100\n",
      "97/97 [==============================] - 0s 4ms/step - loss: 0.1133 - accuracy: 0.0000e+00\n",
      "Epoch 83/100\n",
      "97/97 [==============================] - 0s 4ms/step - loss: 0.1097 - accuracy: 0.0000e+00\n",
      "Epoch 84/100\n",
      "97/97 [==============================] - 0s 4ms/step - loss: 0.1088 - accuracy: 0.0000e+00\n",
      "Epoch 85/100\n",
      "97/97 [==============================] - 0s 4ms/step - loss: 0.1130 - accuracy: 0.0000e+00\n",
      "Epoch 86/100\n",
      "97/97 [==============================] - 0s 4ms/step - loss: 0.1107 - accuracy: 0.0000e+00\n",
      "Epoch 87/100\n",
      "97/97 [==============================] - 0s 4ms/step - loss: 0.1146 - accuracy: 0.0000e+00\n",
      "Epoch 88/100\n",
      "97/97 [==============================] - 0s 4ms/step - loss: 0.1100 - accuracy: 0.0000e+00\n",
      "Epoch 89/100\n",
      "97/97 [==============================] - 0s 4ms/step - loss: 0.1104 - accuracy: 0.0000e+00\n",
      "Epoch 90/100\n",
      "97/97 [==============================] - 0s 4ms/step - loss: 0.1101 - accuracy: 0.0000e+00\n",
      "Epoch 91/100\n",
      "97/97 [==============================] - 0s 4ms/step - loss: 0.1096 - accuracy: 0.0000e+00\n",
      "Epoch 92/100\n",
      "97/97 [==============================] - 0s 4ms/step - loss: 0.1096 - accuracy: 0.0000e+00\n",
      "Epoch 93/100\n",
      "97/97 [==============================] - 0s 4ms/step - loss: 0.1094 - accuracy: 0.0000e+00\n",
      "Epoch 94/100\n",
      "97/97 [==============================] - 0s 4ms/step - loss: 0.1088 - accuracy: 0.0000e+00\n",
      "Epoch 95/100\n",
      "97/97 [==============================] - 0s 4ms/step - loss: 0.1097 - accuracy: 0.0000e+00\n",
      "Epoch 96/100\n",
      "97/97 [==============================] - 0s 4ms/step - loss: 0.1083 - accuracy: 0.0000e+00\n",
      "Epoch 97/100\n",
      "97/97 [==============================] - 0s 4ms/step - loss: 0.1172 - accuracy: 0.0000e+00\n",
      "Epoch 98/100\n",
      "97/97 [==============================] - 0s 4ms/step - loss: 0.1091 - accuracy: 0.0000e+00\n",
      "Epoch 99/100\n",
      "97/97 [==============================] - 0s 4ms/step - loss: 0.1148 - accuracy: 0.0000e+00\n",
      "Epoch 100/100\n",
      "97/97 [==============================] - 0s 4ms/step - loss: 0.1098 - accuracy: 0.0000e+00\n"
     ]
    },
    {
     "data": {
      "text/plain": [
       "<keras.callbacks.History at 0x17335dc2b50>"
      ]
     },
     "execution_count": 13,
     "metadata": {},
     "output_type": "execute_result"
    }
   ],
   "source": [
    "import tensorflow as tf\n",
    "\n",
    "# Define the Elman network architecture\n",
    "input_dim = 13\n",
    "hidden_dim = 100\n",
    "output_dim = 3\n",
    "num_steps = 19\n",
    "\n",
    "inputs = tf.keras.layers.Input(shape=(num_steps, input_dim))\n",
    "hidden_layer = tf.keras.layers.SimpleRNN(hidden_dim, activation='s')(inputs)\n",
    "outputs = tf.keras.layers.Dense(output_dim, activation='softmax')(hidden_layer)\n",
    "\n",
    "# Define the model\n",
    "model = tf.keras.Model(inputs=inputs, outputs=outputs)\n",
    "\n",
    "# Compile the model\n",
    "optimizer = tf.keras.optimizers.Adam(learning_rate=0.01)\n",
    "model.compile(optimizer=optimizer, loss='mse', metrics=[tf.metrics.Accuracy()])\n",
    "\n",
    "# Train the model\n",
    "model.fit(X_train, y_train, epochs=100, batch_size=32)\n"
   ]
  },
  {
   "cell_type": "code",
   "execution_count": 14,
   "metadata": {},
   "outputs": [
    {
     "name": "stdout",
     "output_type": "stream",
     "text": [
      "Accuracy: 0.0\n"
     ]
    },
    {
     "name": "stderr",
     "output_type": "stream",
     "text": [
      "C:\\Users\\AbbasMn\\AppData\\Local\\Temp\\ipykernel_26516\\133833136.py:13: DeprecationWarning: elementwise comparison failed; this will raise an error in the future.\n",
      "  accuracy = np.mean(predicted_labels == y_test)\n"
     ]
    }
   ],
   "source": [
    "import numpy as np\n",
    "\n",
    "# Evaluate the model on the test data\n",
    "loss = model.evaluate(X_test, y_test, verbose=0)\n",
    "\n",
    "# Get the model's predictions on the test data\n",
    "predictions = model.predict(X_test, verbose=0)\n",
    "\n",
    "# Convert predictions and labels to class indices\n",
    "predicted_labels = np.argmax(predictions, axis=1)\n",
    "\n",
    "# Compute accuracy\n",
    "accuracy = np.mean(predicted_labels == y_test)\n",
    "\n",
    "print(\"Accuracy:\", accuracy)\n"
   ]
  },
  {
   "cell_type": "code",
   "execution_count": 15,
   "metadata": {},
   "outputs": [
    {
     "name": "stdout",
     "output_type": "stream",
     "text": [
      "[0 0 0 0 0 0 0 0 0 0 0 0 0 0 0 0 0 0 0 0 0 0 0 0 0 0 0 0 0 0 0 0 0 0 0 0 0\n",
      " 0 0 0 0 0 0 0 0 0 0 0 0 0 0 0 0 0 0 0 0 0 0 0 0 0 0 0 0 0 0 0 0 0 0 0 0 0\n",
      " 0 0 0 0 0 0 0 0 0 0 0 0 0 0 0 0 0 0 0 0 0 0 0 0 0 0 0 0 0 0 0 0 0 0 0 0 0\n",
      " 0 0 0 0 0 0 0 0 0 0 0 0 0 0 0 0 0 0 0 0 0 0 0 0 0 0 0 0 0 0 0 0 0 0 0 0 0\n",
      " 0 0]\n"
     ]
    }
   ],
   "source": [
    "print(predicted_labels)"
   ]
  },
  {
   "cell_type": "code",
   "execution_count": null,
   "metadata": {},
   "outputs": [],
   "source": []
  }
 ],
 "metadata": {
  "kernelspec": {
   "display_name": "base",
   "language": "python",
   "name": "python3"
  },
  "language_info": {
   "codemirror_mode": {
    "name": "ipython",
    "version": 3
   },
   "file_extension": ".py",
   "mimetype": "text/x-python",
   "name": "python",
   "nbconvert_exporter": "python",
   "pygments_lexer": "ipython3",
   "version": "3.9.15"
  },
  "orig_nbformat": 4,
  "vscode": {
   "interpreter": {
    "hash": "ffc2c986650f75bb84df5ef0f5794d173c138677d61245fd2c4ff2debf2f2371"
   }
  }
 },
 "nbformat": 4,
 "nbformat_minor": 2
}
