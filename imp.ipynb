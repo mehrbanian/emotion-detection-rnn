{
 "cells": [
  {
   "cell_type": "code",
   "execution_count": 67,
   "metadata": {},
   "outputs": [],
   "source": [
    "import numpy as np\n",
    "import pandas as pd\n",
    "import tensorflow as tf\n"
   ]
  },
  {
   "cell_type": "code",
   "execution_count": 68,
   "metadata": {},
   "outputs": [],
   "source": [
    "data = np.array(pd.read_csv(\"Dataset/Text_Emotion_Data.csv\"))\n",
    "stopwords = np.array(pd.read_csv(\"Dataset/stopwords.txt\", sep=\" \", header=None)).flatten()"
   ]
  },
  {
   "cell_type": "code",
   "execution_count": 69,
   "metadata": {},
   "outputs": [],
   "source": [
    "X = data[:, 0]\n",
    "y = data[:, 1]"
   ]
  },
  {
   "cell_type": "code",
   "execution_count": 70,
   "metadata": {},
   "outputs": [],
   "source": [
    "# %pip install --upgrade --force-reinstall tensorflow"
   ]
  },
  {
   "cell_type": "code",
   "execution_count": 71,
   "metadata": {},
   "outputs": [],
   "source": [
    "import re\n",
    "\n",
    "def remove_none_alpha(x):\n",
    "    regex = re.compile('[^a-zA-Z]')\n",
    "    return regex.sub(' ', x)"
   ]
  },
  {
   "cell_type": "code",
   "execution_count": 72,
   "metadata": {},
   "outputs": [],
   "source": [
    "# stopwords = [remove_none_alpha(w) for w in stopwords]"
   ]
  },
  {
   "cell_type": "code",
   "execution_count": 73,
   "metadata": {},
   "outputs": [],
   "source": [
    "X_seq = []\n",
    "for sentence in X:\n",
    "    words_seq = remove_none_alpha(sentence).lower().split(\" \")\n",
    "    words_seq = [w for w in words_seq if len(w) > 2]\n",
    "    words_seq = [w for w in words_seq if w not in stopwords]\n",
    "    X_seq.append(words_seq)"
   ]
  },
  {
   "cell_type": "code",
   "execution_count": 74,
   "metadata": {},
   "outputs": [],
   "source": [
    "max_len = len(max(X_seq, key=len))\n",
    "\n",
    "# create a new list of lists with the desired size, padding with empty strings\n",
    "sequences = [['' for _ in range(max_len)] for _ in range(len(X_seq))]\n",
    "\n",
    "# copy the elements from the original lists into the new list, padding with empty strings as needed\n",
    "for i, sequence in enumerate(X_seq):\n",
    "    sequences[i][:len(sequence)] = sequence"
   ]
  },
  {
   "cell_type": "code",
   "execution_count": 75,
   "metadata": {},
   "outputs": [],
   "source": [
    "import numpy as np\n",
    "\n",
    "def one_hot_encode(sequence, word_to_idx):\n",
    "    num_words = len(word_to_idx)\n",
    "    encoding = np.zeros((len(sequence), num_words))\n",
    "    for i, word in enumerate(sequence):\n",
    "        if word in word_to_idx:\n",
    "            encoding[i, word_to_idx[word]] = 1\n",
    "    return encoding\n",
    "\n",
    "def one_hot_encode2(sequence, word_to_idx, max_bit_num):\n",
    "    encoding = np.zeros((len(sequence), max_bit_num))\n",
    "    for i, word in enumerate(sequence):\n",
    "        if word in word_to_idx:            \n",
    "            binary_string = bin(word_to_idx[word])[2:]  # exclude the \"0b\" prefix\n",
    "            binary_array = np.array([int(digit) for digit in binary_string])\n",
    "            binary_array = np.pad(binary_array, (max_bit_num - len(binary_array), 0), 'constant')\n",
    "\n",
    "            encoding[i, :] = binary_array\n",
    "    return encoding\n",
    "\n",
    "unique_words = list(np.unique([word for sequence in sequences for word in sequence]))\n",
    "word_to_idx = {word: idx for idx, word in enumerate(unique_words)}\n",
    "\n",
    "max_bit_num = 1\n",
    "while(True):\n",
    "    if(2**max_bit_num > len(unique_words)): break\n",
    "    max_bit_num += 1\n",
    "\n",
    "encoded_sequences = []\n",
    "for sequence in sequences:\n",
    "    encoded_sequences.append(one_hot_encode(sequence, word_to_idx))\n",
    "\n",
    "encoded_sequences = np.array(encoded_sequences)"
   ]
  },
  {
   "cell_type": "code",
   "execution_count": 76,
   "metadata": {},
   "outputs": [],
   "source": [
    "def select_test_dataset(x, y, _y):\n",
    "    unique_classes = np.unique(_y)\n",
    "    train_indices = []\n",
    "    test_indices = []\n",
    "    \n",
    "    for cls in unique_classes:\n",
    "        cls_indices = np.where(_y == cls)[0]\n",
    "        train_indices.extend(cls_indices[:-150])\n",
    "        test_indices.extend(cls_indices[-150:])\n",
    "    \n",
    "    train_x = x[train_indices]\n",
    "    train_y = y[train_indices]\n",
    "    test_x = x[test_indices]\n",
    "    test_y = y[test_indices]\n",
    "    \n",
    "    return train_x, train_y, test_x, test_y"
   ]
  },
  {
   "cell_type": "code",
   "execution_count": 77,
   "metadata": {},
   "outputs": [],
   "source": [
    "# X_train = encoded_sequences[:-150]\n",
    "# X_test = encoded_sequences[-150:]\n",
    "# # y_train_str = y[:-150]\n",
    "# # y_test_str = y[-150:]"
   ]
  },
  {
   "cell_type": "code",
   "execution_count": 78,
   "metadata": {},
   "outputs": [],
   "source": [
    "from sklearn import preprocessing\n",
    "\n",
    "le = preprocessing.LabelEncoder()\n",
    "y_encoded = le.fit_transform(y)"
   ]
  },
  {
   "cell_type": "code",
   "execution_count": 79,
   "metadata": {},
   "outputs": [],
   "source": [
    "# # Define the function you want to apply\n",
    "# def to_binary(num):\n",
    "#     binary_string = bin(num)[2:]  # exclude the \"0b\" prefix\n",
    "#     binary_array = np.array([int(digit) for digit in binary_string])\n",
    "#     binary_array = np.pad(binary_array, (3 - len(binary_array), 0), 'constant')\n",
    "#     return binary_array\n",
    "\n",
    "# # Create a NumPy array\n",
    "# arr = np.array(y_encoded)\n",
    "\n",
    "# # Initialize the result array\n",
    "# y_encoded_onehot = np.empty((arr.shape[0], 3), dtype=int)\n",
    "\n",
    "# # Apply the function on all elements of the array\n",
    "# for i, num in enumerate(arr):\n",
    "#     y_encoded_onehot[i] = to_binary(num)\n"
   ]
  },
  {
   "cell_type": "code",
   "execution_count": 80,
   "metadata": {},
   "outputs": [
    {
     "data": {
      "text/plain": [
       "0"
      ]
     },
     "execution_count": 80,
     "metadata": {},
     "output_type": "execute_result"
    }
   ],
   "source": [
    "min(y_encoded)"
   ]
  },
  {
   "cell_type": "code",
   "execution_count": 81,
   "metadata": {},
   "outputs": [],
   "source": [
    "def to_binary(num):\n",
    "    binary_array = np.zeros(5)\n",
    "    binary_array[num] = 1\n",
    "    return binary_array\n",
    "\n",
    "# Create a NumPy array\n",
    "arr = np.array(y_encoded)\n",
    "\n",
    "# Initialize the result array\n",
    "y_encoded_onehot = np.empty((arr.shape[0], 5), dtype=int)\n",
    "\n",
    "# Apply the function on all elements of the array\n",
    "for i, num in enumerate(arr):\n",
    "    y_encoded_onehot[i] = to_binary(num)"
   ]
  },
  {
   "cell_type": "code",
   "execution_count": 82,
   "metadata": {},
   "outputs": [],
   "source": [
    "y_encoded_onehot = tf.keras.utils.to_categorical(y_encoded, num_classes = 5)\n"
   ]
  },
  {
   "cell_type": "code",
   "execution_count": 83,
   "metadata": {},
   "outputs": [],
   "source": [
    "X_train, y_train, X_test, y_test = select_test_dataset(encoded_sequences, y_encoded_onehot, y_encoded)"
   ]
  },
  {
   "cell_type": "code",
   "execution_count": 84,
   "metadata": {},
   "outputs": [],
   "source": [
    "# y_train = y_encoded_onehot[:-150]\n",
    "# y_test = y_encoded_onehot[-150:]"
   ]
  },
  {
   "cell_type": "code",
   "execution_count": 85,
   "metadata": {},
   "outputs": [
    {
     "data": {
      "text/plain": [
       "numpy.ndarray"
      ]
     },
     "execution_count": 85,
     "metadata": {},
     "output_type": "execute_result"
    }
   ],
   "source": [
    "type(X_train)"
   ]
  },
  {
   "cell_type": "code",
   "execution_count": 86,
   "metadata": {},
   "outputs": [
    {
     "data": {
      "text/plain": [
       "(2500, 19, 6523)"
      ]
     },
     "execution_count": 86,
     "metadata": {},
     "output_type": "execute_result"
    }
   ],
   "source": [
    "X_train.shape"
   ]
  },
  {
   "cell_type": "code",
   "execution_count": 87,
   "metadata": {},
   "outputs": [],
   "source": [
    "# import tensorflow as tf\n",
    "\n",
    "# # Define the Elman network architecture\n",
    "# input_dim = X_train.shape[2]\n",
    "# hidden_dim = 300\n",
    "# output_dim = y_train.shape[1]\n",
    "# num_steps = X_train.shape[1]\n",
    "\n",
    "# inputs = tf.keras.layers.Input(shape=(num_steps, input_dim))\n",
    "# hidden_layer = tf.keras.layers.SimpleRNN(hidden_dim, activation='tanh', return_sequences=True)(inputs)\n",
    "\n",
    "# # Connect the hidden layer to itself at the previous time step\n",
    "# hidden_layer_with_context = tf.keras.layers.SimpleRNN(hidden_dim, activation='tanh', return_sequences=True)(hidden_layer)\n",
    "# hidden_layer_with_context = tf.keras.layers.Concatenate()([hidden_layer, hidden_layer_with_context])\n",
    "\n",
    "# # Flatten the output of the hidden layer\n",
    "# flatten_layer = tf.keras.layers.Flatten()(hidden_layer_with_context)\n",
    "\n",
    "# outputs = tf.keras.layers.Dense(output_dim, activation='softmax')(flatten_layer)\n",
    "\n",
    "# # Define the model\n",
    "# model = tf.keras.Model(inputs=inputs, outputs=outputs)\n",
    "\n",
    "# # Compile the model\n",
    "# # optimizer = tf.keras.optimizers.Adam(learning_rate=0.01)\n",
    "# optimizer = tf.keras.optimizers.Adadelta(learning_rate=0.1)\n",
    "# model.compile(optimizer=optimizer, loss='mse')\n",
    "\n",
    "# # Train the model\n",
    "# model.fit(X_train, y_train, epochs=100, batch_size=32)\n"
   ]
  },
  {
   "cell_type": "code",
   "execution_count": 88,
   "metadata": {},
   "outputs": [
    {
     "data": {
      "text/plain": [
       "(2500, 5)"
      ]
     },
     "execution_count": 88,
     "metadata": {},
     "output_type": "execute_result"
    }
   ],
   "source": [
    "y_train.shape"
   ]
  },
  {
   "cell_type": "code",
   "execution_count": 89,
   "metadata": {},
   "outputs": [
    {
     "data": {
      "text/plain": [
       "(2500, 19, 6523)"
      ]
     },
     "execution_count": 89,
     "metadata": {},
     "output_type": "execute_result"
    }
   ],
   "source": [
    "X_train.shape"
   ]
  },
  {
   "cell_type": "code",
   "execution_count": 101,
   "metadata": {},
   "outputs": [
    {
     "data": {
      "text/plain": [
       "array([[1., 0., 0., 0., 0.],\n",
       "       [1., 0., 0., 0., 0.],\n",
       "       [1., 0., 0., 0., 0.],\n",
       "       ...,\n",
       "       [0., 0., 0., 0., 1.],\n",
       "       [0., 0., 0., 0., 1.],\n",
       "       [0., 0., 0., 0., 1.]], dtype=float32)"
      ]
     },
     "execution_count": 101,
     "metadata": {},
     "output_type": "execute_result"
    }
   ],
   "source": [
    "y_train"
   ]
  },
  {
   "cell_type": "code",
   "execution_count": 90,
   "metadata": {},
   "outputs": [
    {
     "name": "stdout",
     "output_type": "stream",
     "text": [
      "Epoch 1/20\n",
      "81/81 [==============================] - 16s 155ms/step - loss: 0.1772 - accuracy: 0.2028 - val_loss: 0.1715 - val_accuracy: 0.2747\n",
      "Epoch 2/20\n",
      "81/81 [==============================] - 10s 124ms/step - loss: 0.1610 - accuracy: 0.3004 - val_loss: 0.1546 - val_accuracy: 0.3667\n",
      "Epoch 3/20\n",
      "81/81 [==============================] - 9s 111ms/step - loss: 0.1386 - accuracy: 0.4552 - val_loss: 0.1434 - val_accuracy: 0.4413\n",
      "Epoch 4/20\n",
      "81/81 [==============================] - 10s 123ms/step - loss: 0.1134 - accuracy: 0.6104 - val_loss: 0.1359 - val_accuracy: 0.4867\n",
      "Epoch 5/20\n",
      "81/81 [==============================] - 11s 139ms/step - loss: 0.0911 - accuracy: 0.7000 - val_loss: 0.1585 - val_accuracy: 0.4147\n",
      "Epoch 6/20\n",
      "81/81 [==============================] - 11s 138ms/step - loss: 0.0785 - accuracy: 0.7380 - val_loss: 0.1428 - val_accuracy: 0.5027\n",
      "Epoch 7/20\n",
      "81/81 [==============================] - 12s 144ms/step - loss: 0.0714 - accuracy: 0.7516 - val_loss: 0.1407 - val_accuracy: 0.5227\n",
      "Epoch 8/20\n",
      "81/81 [==============================] - 12s 145ms/step - loss: 0.0638 - accuracy: 0.7508 - val_loss: 0.1364 - val_accuracy: 0.5427\n",
      "Epoch 9/20\n",
      "81/81 [==============================] - 12s 147ms/step - loss: 0.0504 - accuracy: 0.7860 - val_loss: 0.1370 - val_accuracy: 0.5360\n",
      "Epoch 10/20\n",
      "81/81 [==============================] - 11s 141ms/step - loss: 0.0457 - accuracy: 0.8716 - val_loss: 0.1272 - val_accuracy: 0.6253\n",
      "Epoch 11/20\n",
      "81/81 [==============================] - 11s 140ms/step - loss: 0.0451 - accuracy: 0.9556 - val_loss: 0.1276 - val_accuracy: 0.5960\n",
      "Epoch 12/20\n",
      "81/81 [==============================] - 11s 139ms/step - loss: 0.0442 - accuracy: 0.9428 - val_loss: 0.1293 - val_accuracy: 0.6293\n",
      "Epoch 13/20\n",
      "81/81 [==============================] - 11s 134ms/step - loss: 0.0433 - accuracy: 0.9372 - val_loss: 0.1269 - val_accuracy: 0.5960\n",
      "Epoch 14/20\n",
      "81/81 [==============================] - 12s 145ms/step - loss: 0.0429 - accuracy: 0.8812 - val_loss: 0.1348 - val_accuracy: 0.5587\n",
      "Epoch 15/20\n",
      "81/81 [==============================] - 11s 139ms/step - loss: 0.0429 - accuracy: 0.9588 - val_loss: 0.1249 - val_accuracy: 0.6533\n",
      "Epoch 16/20\n",
      "81/81 [==============================] - 13s 155ms/step - loss: 0.0425 - accuracy: 0.9736 - val_loss: 0.1303 - val_accuracy: 0.5813\n",
      "Epoch 17/20\n",
      "81/81 [==============================] - 12s 145ms/step - loss: 0.0421 - accuracy: 0.8964 - val_loss: 0.1248 - val_accuracy: 0.6227\n",
      "Epoch 18/20\n",
      "81/81 [==============================] - 12s 147ms/step - loss: 0.0420 - accuracy: 0.9672 - val_loss: 0.1247 - val_accuracy: 0.6453\n",
      "Epoch 19/20\n",
      "81/81 [==============================] - 12s 152ms/step - loss: 0.0419 - accuracy: 0.9888 - val_loss: 0.1255 - val_accuracy: 0.6467\n",
      "Epoch 20/20\n",
      "81/81 [==============================] - 12s 147ms/step - loss: 0.0418 - accuracy: 0.9900 - val_loss: 0.1226 - val_accuracy: 0.6547\n"
     ]
    },
    {
     "data": {
      "text/plain": [
       "<keras.callbacks.History at 0x250717eaa60>"
      ]
     },
     "execution_count": 90,
     "metadata": {},
     "output_type": "execute_result"
    }
   ],
   "source": [
    "import tensorflow as tf\n",
    "\n",
    "\n",
    "# timesteps = X_train.shape[1]\n",
    "# input_dim = X_train.shape[2]\n",
    "# output_dim = 5\n",
    "\n",
    "# # Define the model\n",
    "# model = tf.keras.Sequential()\n",
    "\n",
    "# # Add the recurrent layer (Elman network)\n",
    "# model.add(tf.keras.layers.SimpleRNN(units=64, input_shape=(timesteps, input_dim)))\n",
    "\n",
    "# # Add a dense (fully connected) layer for the output\n",
    "# model.add(tf.keras.layers.Dense(units=output_dim, activation='softmax'))\n",
    "\n",
    "# # Compile the model\n",
    "# model.compile(loss='categorical_crossentropy', optimizer='adam', metrics=['accuracy'])\n",
    "\n",
    "# # Print the model summary\n",
    "# model.summary()\n",
    "\n",
    "# # Train the model\n",
    "# model.fit(X_train, y_train, epochs=10, batch_size=32, validation_data=(X_test, y_test))\n",
    "\n",
    "# Define the Elman network architecture\n",
    "input_dim = X_train.shape[2]\n",
    "hidden_dim = 100\n",
    "output_dim = y_train.shape[1]\n",
    "num_steps = X_train.shape[1]\n",
    "\n",
    "inputs = tf.keras.layers.Input(shape=(num_steps, input_dim))\n",
    "hidden_layer = tf.keras.layers.SimpleRNN(hidden_dim, activation='relu')(inputs)\n",
    "outputs = tf.keras.layers.Dense(output_dim, activation='relu')(hidden_layer)\n",
    "\n",
    "# Define the model\n",
    "model = tf.keras.Model(inputs=inputs, outputs=outputs)\n",
    "\n",
    "# Compile the model\n",
    "optimizer = tf.keras.optimizers.Adam(learning_rate=0.01)\n",
    "# optimizer = tf.keras.optimizers.Adadelta(learning_rate=0.01)\n",
    "model.compile(optimizer='adam', loss='mse', metrics=['accuracy'])\n",
    "\n",
    "# Train the model\n",
    "model.fit(X_train, y_train, epochs=20, batch_size=31, validation_data=(X_test, y_test))\n"
   ]
  },
  {
   "cell_type": "code",
   "execution_count": 91,
   "metadata": {},
   "outputs": [
    {
     "name": "stdout",
     "output_type": "stream",
     "text": [
      "24/24 [==============================] - 2s 70ms/step - loss: 0.1226 - accuracy: 0.6547\n"
     ]
    }
   ],
   "source": [
    "loss, acc = model.evaluate(X_test, y_test)"
   ]
  },
  {
   "cell_type": "code",
   "execution_count": 92,
   "metadata": {},
   "outputs": [
    {
     "name": "stdout",
     "output_type": "stream",
     "text": [
      "Accuracy: 86.37\n"
     ]
    }
   ],
   "source": [
    "import numpy as np\n",
    "\n",
    "# Evaluate the model on the test data\n",
    "loss = model.evaluate(X_test, y_test, verbose=0)\n",
    "\n",
    "# Get the model's predictions on the test data\n",
    "predictions = model.predict(X_test, verbose=0)\n",
    "\n",
    "# Convert predictions and labels to class indices\n",
    "# predicted_labels = np.argmax(predictions, axis=1)\n",
    "predicted_labels = np.round(predictions)\n",
    "\n",
    "# Compute accuracy\n",
    "accuracy = np.mean(predicted_labels == y_test)\n",
    "\n",
    "print(\"Accuracy:\", np.round(accuracy * 100, 2))\n"
   ]
  },
  {
   "cell_type": "code",
   "execution_count": 98,
   "metadata": {},
   "outputs": [],
   "source": [
    "import pickle\n",
    "\n",
    "with open('./models/65-86-model.p', 'wb') as outfile:\n",
    "    pickle.dump(model, outfile)"
   ]
  },
  {
   "cell_type": "code",
   "execution_count": 94,
   "metadata": {},
   "outputs": [
    {
     "data": {
      "text/plain": [
       "array([[0., 0., 0., 0., 0.],\n",
       "       [0., 0., 0., 0., 0.],\n",
       "       [0., 0., 0., 0., 0.],\n",
       "       ...,\n",
       "       [0., 0., 0., 0., 1.],\n",
       "       [0., 0., 0., 0., 0.],\n",
       "       [0., 0., 0., 0., 1.]], dtype=float32)"
      ]
     },
     "execution_count": 94,
     "metadata": {},
     "output_type": "execute_result"
    }
   ],
   "source": [
    "predicted_labels"
   ]
  },
  {
   "cell_type": "code",
   "execution_count": 95,
   "metadata": {},
   "outputs": [
    {
     "data": {
      "text/plain": [
       "array([[0., 0., 0., 0., 0.],\n",
       "       [0., 0., 0., 0., 1.],\n",
       "       [0., 0., 0., 1., 0.],\n",
       "       [0., 0., 1., 0., 0.],\n",
       "       [0., 1., 0., 0., 0.]], dtype=float32)"
      ]
     },
     "execution_count": 95,
     "metadata": {},
     "output_type": "execute_result"
    }
   ],
   "source": [
    "np.unique(predicted_labels, axis=0)"
   ]
  },
  {
   "cell_type": "code",
   "execution_count": 96,
   "metadata": {},
   "outputs": [
    {
     "data": {
      "text/plain": [
       "array([[0., 0., 0., 0., 1.],\n",
       "       [0., 0., 0., 1., 0.],\n",
       "       [0., 0., 1., 0., 0.],\n",
       "       [0., 1., 0., 0., 0.],\n",
       "       [1., 0., 0., 0., 0.]], dtype=float32)"
      ]
     },
     "execution_count": 96,
     "metadata": {},
     "output_type": "execute_result"
    }
   ],
   "source": [
    "np.unique(y_test, axis=0)"
   ]
  }
 ],
 "metadata": {
  "kernelspec": {
   "display_name": "base",
   "language": "python",
   "name": "python3"
  },
  "language_info": {
   "codemirror_mode": {
    "name": "ipython",
    "version": 3
   },
   "file_extension": ".py",
   "mimetype": "text/x-python",
   "name": "python",
   "nbconvert_exporter": "python",
   "pygments_lexer": "ipython3",
   "version": "3.9.12"
  },
  "orig_nbformat": 4,
  "vscode": {
   "interpreter": {
    "hash": "ffc2c986650f75bb84df5ef0f5794d173c138677d61245fd2c4ff2debf2f2371"
   }
  }
 },
 "nbformat": 4,
 "nbformat_minor": 2
}
